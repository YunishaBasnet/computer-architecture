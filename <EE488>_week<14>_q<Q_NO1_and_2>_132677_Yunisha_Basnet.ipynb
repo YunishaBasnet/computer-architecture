{
  "nbformat": 4,
  "nbformat_minor": 0,
  "metadata": {
    "colab": {
      "private_outputs": true,
      "provenance": [],
      "authorship_tag": "ABX9TyP/ukC2jtr96QjLIMrDlIbA",
      "include_colab_link": true
    },
    "kernelspec": {
      "name": "python3",
      "display_name": "Python 3"
    },
    "language_info": {
      "name": "python"
    }
  },
  "cells": [
    {
      "cell_type": "markdown",
      "metadata": {
        "id": "view-in-github",
        "colab_type": "text"
      },
      "source": [
        "<a href=\"https://colab.research.google.com/github/YunishaBasnet/computer-architecture/blob/main/%3CEE488%3E_week%3C14%3E_q%3CQ_NO1_and_2%3E_132677_Yunisha_Basnet.ipynb\" target=\"_parent\"><img src=\"https://colab.research.google.com/assets/colab-badge.svg\" alt=\"Open In Colab\"/></a>"
      ]
    },
    {
      "cell_type": "markdown",
      "source": [
        "###Question no.1\n"
      ],
      "metadata": {
        "id": "NHlWuaaoLTU5"
      }
    },
    {
      "cell_type": "code",
      "execution_count": null,
      "metadata": {
        "id": "1QbiCHPZ8MYU"
      },
      "outputs": [],
      "source": [
        "def alu_8bit(A, B, opcode):\n",
        "    # Ensure 8-bit constraint\n",
        "    A = A & 0xFF\n",
        "    B = B & 0xFF\n",
        "    opcode = opcode.zfill(4)\n",
        "\n",
        "    if opcode == '0000':  # A + B\n",
        "        return (A + B) & 0xFF\n",
        "    elif opcode == '0001':  # A - B\n",
        "        return (A - B) & 0xFF\n",
        "    elif opcode == '0010':  # A * B\n",
        "        return (A * B) & 0xFF\n",
        "    elif opcode == '0011':  # A / B\n",
        "        return (A // B) if B != 0 else 0\n",
        "    elif opcode == '0100':  # A << 1\n",
        "        return (A << 1) & 0xFF\n",
        "    elif opcode == '0101':  # A >> 1\n",
        "        return (A >> 1)\n",
        "    elif opcode == '0110':  # A rotated left by 1\n",
        "        return ((A << 1) | (A >> 7)) & 0xFF\n",
        "    elif opcode == '0111':  # A rotated right by 1\n",
        "        return ((A >> 1) | ((A & 1) << 7)) & 0xFF\n",
        "    elif opcode == '1000':  # A and B\n",
        "        return A & B\n",
        "    elif opcode == '1001':  # A or B\n",
        "        return A | B\n",
        "    elif opcode == '1010':  # A xor B\n",
        "        return A ^ B\n",
        "    elif opcode == '1011':  # A nor B\n",
        "        return ~(A | B) & 0xFF\n",
        "    elif opcode == '1100':  # A nand B\n",
        "        return ~(A & B) & 0xFF\n",
        "    elif opcode == '1101':  # A xnor B\n",
        "        return ~(A ^ B) & 0xFF\n",
        "    elif opcode == '1110':  # A > B\n",
        "        return 1 if A > B else 0\n",
        "    elif opcode == '1111':  # A == B\n",
        "        return 1 if A == B else 0\n",
        "    else:\n",
        "        return None  # Invalid opcode\n",
        "print(alu_8bit(5, 3, '0000'))  # Output: 8\n",
        "print(alu_8bit(200, 100, '0011'))  # Output: 2\n",
        "print(alu_8bit(255, 1, '0110'))  # Output: 255 (rotate left)\n"
      ]
    },
    {
      "cell_type": "markdown",
      "source": [
        "###Question no.2 Booth’s Algorithm (4-bit multiplier)"
      ],
      "metadata": {
        "id": "_CG1dFXkLRo1"
      }
    },
    {
      "cell_type": "code",
      "source": [
        "def arithmetic_right_shift(A, Q, Q1):\n",
        "    combined = A + Q + [Q1]\n",
        "    shifted = [combined[0]] + combined[:-1]\n",
        "    return shifted[:4], shifted[4:8], shifted[8]\n",
        "\n",
        "def add_binary(A, B):\n",
        "    result = [0]*len(A)\n",
        "    carry = 0\n",
        "    for i in range(len(A)-1, -1, -1):\n",
        "        total = A[i] + B[i] + carry\n",
        "        result[i] = total % 2\n",
        "        carry = total // 2\n",
        "    return result\n",
        "\n",
        "def twos_complement(bin_list):\n",
        "    inverted = [1 - bit for bit in bin_list]\n",
        "    one = [0]*(len(bin_list)-1) + [1]\n",
        "    return add_binary(inverted, one)\n",
        "\n",
        "def booth_multiplier(multiplicand, multiplier):\n",
        "    A = [0, 0, 0, 0]\n",
        "    Q = [int(x) for x in f'{multiplier & 0b1111:04b}']\n",
        "    M = [int(x) for x in f'{multiplicand & 0b1111:04b}']\n",
        "    Q1 = 0\n",
        "    count = 4\n",
        "\n",
        "    if multiplicand < 0:\n",
        "        M = twos_complement(M)\n",
        "    if multiplier < 0:\n",
        "        Q = twos_complement(Q)\n",
        "\n",
        "    print(\"Initial Values:\")\n",
        "    print(\"A:\", A, \"Q:\", Q, \"Q1:\", Q1, \"\\n\")\n",
        "\n",
        "    while count > 0:\n",
        "        print(f\"Step {5 - count}:\")\n",
        "        if Q[-1] == 1 and Q1 == 0:\n",
        "            A = add_binary(A, twos_complement(M))\n",
        "            print(\"Operation: A = A - M\")\n",
        "        elif Q[-1] == 0 and Q1 == 1:\n",
        "            A = add_binary(A, M)\n",
        "            print(\"Operation: A = A + M\")\n",
        "        else:\n",
        "            print(\"Operation: No change\")\n",
        "\n",
        "        print(\"Before Shift - A:\", A, \"Q:\", Q, \"Q1:\", Q1)\n",
        "        A, Q, Q1 = arithmetic_right_shift(A, Q, Q1)\n",
        "        print(\"After Shift  - A:\", A, \"Q:\", Q, \"Q1:\", Q1, \"\\n\")\n",
        "        count -= 1\n",
        "\n",
        "    result = A + Q\n",
        "    value = int(''.join(map(str, result)), 2)\n",
        "    if result[0] == 1:\n",
        "        value -= (1 << 8)\n",
        "\n",
        "    print(\"Final Binary Result:\", result)\n",
        "    print(\"Decimal Result:\", value)\n",
        "    return value\n",
        "\n",
        "# Run\n",
        "print(\"\\nBooth's Algorithm Result:\")\n",
        "booth_multiplier(-3, 5)\n"
      ],
      "metadata": {
        "id": "J0tpbq3T8fVv"
      },
      "execution_count": null,
      "outputs": []
    },
    {
      "cell_type": "markdown",
      "source": [
        "## Shift-and-Add Multiplication (Standard Method)"
      ],
      "metadata": {
        "id": "DlKhfhLfLQzN"
      }
    },
    {
      "cell_type": "code",
      "source": [
        "def shift_add_multiplier(multiplicand, multiplier):\n",
        "    product = 0\n",
        "    negative_result = (multiplicand < 0) ^ (multiplier < 0)\n",
        "    multiplicand = abs(multiplicand)\n",
        "    multiplier = abs(multiplier)\n",
        "\n",
        "    print(\"Steps:\")\n",
        "    for i in range(4):\n",
        "        if (multiplier >> i) & 1:\n",
        "            print(f\"Bit {i} of multiplier is 1 → Add {multiplicand} << {i}\")\n",
        "            product += (multiplicand << i)\n",
        "        else:\n",
        "            print(f\"Bit {i} of multiplier is 0 → No addition\")\n",
        "\n",
        "    if negative_result:\n",
        "        product = -product\n",
        "\n",
        "    print(\"Final Product:\", product)\n",
        "    return product\n",
        "\n",
        "# Run\n",
        "print(\"\\nShift-and-Add Result:\")\n",
        "shift_add_multiplier(-3, 5)\n"
      ],
      "metadata": {
        "id": "N9TAqpNm9QkZ"
      },
      "execution_count": null,
      "outputs": []
    }
  ]
}